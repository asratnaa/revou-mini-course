{
 "cells": [
  {
   "cell_type": "code",
   "execution_count": 2,
   "metadata": {},
   "outputs": [],
   "source": [
    "import pandas as pd\n",
    "\n"
   ]
  },
  {
   "cell_type": "code",
   "execution_count": 3,
   "metadata": {},
   "outputs": [
    {
     "name": "stdout",
     "output_type": "stream",
     "text": [
      "3.1.5\n"
     ]
    }
   ],
   "source": [
    "import openpyxl\n",
    "print(openpyxl.__version__)\n"
   ]
  },
  {
   "cell_type": "code",
   "execution_count": 4,
   "metadata": {},
   "outputs": [
    {
     "data": {
      "text/html": [
       "<div>\n",
       "<style scoped>\n",
       "    .dataframe tbody tr th:only-of-type {\n",
       "        vertical-align: middle;\n",
       "    }\n",
       "\n",
       "    .dataframe tbody tr th {\n",
       "        vertical-align: top;\n",
       "    }\n",
       "\n",
       "    .dataframe thead th {\n",
       "        text-align: right;\n",
       "    }\n",
       "</style>\n",
       "<table border=\"1\" class=\"dataframe\">\n",
       "  <thead>\n",
       "    <tr style=\"text-align: right;\">\n",
       "      <th></th>\n",
       "      <th>kode_provinsi</th>\n",
       "      <th>nama_provinsi</th>\n",
       "      <th>kode_kabupaten_kota</th>\n",
       "      <th>nama_kabupaten_kota</th>\n",
       "      <th>jenis_faskes</th>\n",
       "      <th>jumlah_faskes</th>\n",
       "      <th>satuan</th>\n",
       "    </tr>\n",
       "  </thead>\n",
       "  <tbody>\n",
       "    <tr>\n",
       "      <th>0</th>\n",
       "      <td>32</td>\n",
       "      <td>JAWA BARAT</td>\n",
       "      <td>3201</td>\n",
       "      <td>KABUPATEN BOGOR</td>\n",
       "      <td>RUMAH SAKIT UMUM</td>\n",
       "      <td>9</td>\n",
       "      <td>UNIT</td>\n",
       "    </tr>\n",
       "    <tr>\n",
       "      <th>1</th>\n",
       "      <td>32</td>\n",
       "      <td>JAWA BARAT</td>\n",
       "      <td>3201</td>\n",
       "      <td>KABUPATEN BOGOR</td>\n",
       "      <td>RUMAH SAKIT KHUSUS</td>\n",
       "      <td>0</td>\n",
       "      <td>UNIT</td>\n",
       "    </tr>\n",
       "    <tr>\n",
       "      <th>2</th>\n",
       "      <td>32</td>\n",
       "      <td>JAWA BARAT</td>\n",
       "      <td>3201</td>\n",
       "      <td>KABUPATEN BOGOR</td>\n",
       "      <td>RUMAH SAKIT BERSALIN</td>\n",
       "      <td>0</td>\n",
       "      <td>UNIT</td>\n",
       "    </tr>\n",
       "  </tbody>\n",
       "</table>\n",
       "</div>"
      ],
      "text/plain": [
       "   kode_provinsi nama_provinsi  kode_kabupaten_kota nama_kabupaten_kota  \\\n",
       "0             32    JAWA BARAT                 3201     KABUPATEN BOGOR   \n",
       "1             32    JAWA BARAT                 3201     KABUPATEN BOGOR   \n",
       "2             32    JAWA BARAT                 3201     KABUPATEN BOGOR   \n",
       "\n",
       "           jenis_faskes  jumlah_faskes satuan  \n",
       "0      RUMAH SAKIT UMUM              9   UNIT  \n",
       "1    RUMAH SAKIT KHUSUS              0   UNIT  \n",
       "2  RUMAH SAKIT BERSALIN              0   UNIT  "
      ]
     },
     "execution_count": 4,
     "metadata": {},
     "output_type": "execute_result"
    }
   ],
   "source": [
    "df = pd.read_excel(\"D:\\\\skill100\\\\data_wraggling\\\\Jumlah Faskes Jabar.xlsx\")\n",
    "df.head(3)\n"
   ]
  },
  {
   "cell_type": "code",
   "execution_count": 5,
   "metadata": {},
   "outputs": [
    {
     "name": "stdout",
     "output_type": "stream",
     "text": [
      "<class 'pandas.core.frame.DataFrame'>\n",
      "RangeIndex: 270 entries, 0 to 269\n",
      "Data columns (total 7 columns):\n",
      " #   Column               Non-Null Count  Dtype \n",
      "---  ------               --------------  ----- \n",
      " 0   kode_provinsi        270 non-null    int64 \n",
      " 1   nama_provinsi        270 non-null    object\n",
      " 2   kode_kabupaten_kota  270 non-null    int64 \n",
      " 3   nama_kabupaten_kota  270 non-null    object\n",
      " 4   jenis_faskes         270 non-null    object\n",
      " 5   jumlah_faskes        270 non-null    int64 \n",
      " 6   satuan               270 non-null    object\n",
      "dtypes: int64(3), object(4)\n",
      "memory usage: 14.9+ KB\n"
     ]
    }
   ],
   "source": [
    "df.info()"
   ]
  },
  {
   "cell_type": "code",
   "execution_count": 6,
   "metadata": {},
   "outputs": [
    {
     "data": {
      "text/plain": [
       "kode_provinsi          0\n",
       "nama_provinsi          0\n",
       "kode_kabupaten_kota    0\n",
       "nama_kabupaten_kota    0\n",
       "jenis_faskes           0\n",
       "jumlah_faskes          0\n",
       "satuan                 0\n",
       "dtype: int64"
      ]
     },
     "execution_count": 6,
     "metadata": {},
     "output_type": "execute_result"
    }
   ],
   "source": [
    "df.isna().sum()"
   ]
  },
  {
   "cell_type": "code",
   "execution_count": 7,
   "metadata": {},
   "outputs": [
    {
     "data": {
      "text/html": [
       "<div>\n",
       "<style scoped>\n",
       "    .dataframe tbody tr th:only-of-type {\n",
       "        vertical-align: middle;\n",
       "    }\n",
       "\n",
       "    .dataframe tbody tr th {\n",
       "        vertical-align: top;\n",
       "    }\n",
       "\n",
       "    .dataframe thead th {\n",
       "        text-align: right;\n",
       "    }\n",
       "</style>\n",
       "<table border=\"1\" class=\"dataframe\">\n",
       "  <thead>\n",
       "    <tr style=\"text-align: right;\">\n",
       "      <th></th>\n",
       "      <th>kode_provinsi</th>\n",
       "      <th>kode_kabupaten_kota</th>\n",
       "      <th>jumlah_faskes</th>\n",
       "    </tr>\n",
       "  </thead>\n",
       "  <tbody>\n",
       "    <tr>\n",
       "      <th>count</th>\n",
       "      <td>270.0</td>\n",
       "      <td>270.000000</td>\n",
       "      <td>270.000000</td>\n",
       "    </tr>\n",
       "    <tr>\n",
       "      <th>mean</th>\n",
       "      <td>32.0</td>\n",
       "      <td>3231.333333</td>\n",
       "      <td>206.185185</td>\n",
       "    </tr>\n",
       "    <tr>\n",
       "      <th>std</th>\n",
       "      <td>0.0</td>\n",
       "      <td>31.259794</td>\n",
       "      <td>697.236720</td>\n",
       "    </tr>\n",
       "    <tr>\n",
       "      <th>min</th>\n",
       "      <td>32.0</td>\n",
       "      <td>3201.000000</td>\n",
       "      <td>0.000000</td>\n",
       "    </tr>\n",
       "    <tr>\n",
       "      <th>25%</th>\n",
       "      <td>32.0</td>\n",
       "      <td>3207.000000</td>\n",
       "      <td>0.000000</td>\n",
       "    </tr>\n",
       "    <tr>\n",
       "      <th>50%</th>\n",
       "      <td>32.0</td>\n",
       "      <td>3214.000000</td>\n",
       "      <td>5.000000</td>\n",
       "    </tr>\n",
       "    <tr>\n",
       "      <th>75%</th>\n",
       "      <td>32.0</td>\n",
       "      <td>3273.000000</td>\n",
       "      <td>32.000000</td>\n",
       "    </tr>\n",
       "    <tr>\n",
       "      <th>max</th>\n",
       "      <td>32.0</td>\n",
       "      <td>3279.000000</td>\n",
       "      <td>4927.000000</td>\n",
       "    </tr>\n",
       "  </tbody>\n",
       "</table>\n",
       "</div>"
      ],
      "text/plain": [
       "       kode_provinsi  kode_kabupaten_kota  jumlah_faskes\n",
       "count          270.0           270.000000     270.000000\n",
       "mean            32.0          3231.333333     206.185185\n",
       "std              0.0            31.259794     697.236720\n",
       "min             32.0          3201.000000       0.000000\n",
       "25%             32.0          3207.000000       0.000000\n",
       "50%             32.0          3214.000000       5.000000\n",
       "75%             32.0          3273.000000      32.000000\n",
       "max             32.0          3279.000000    4927.000000"
      ]
     },
     "execution_count": 7,
     "metadata": {},
     "output_type": "execute_result"
    }
   ],
   "source": [
    "df.describe()"
   ]
  },
  {
   "cell_type": "code",
   "execution_count": 8,
   "metadata": {},
   "outputs": [
    {
     "data": {
      "text/html": [
       "<div>\n",
       "<style scoped>\n",
       "    .dataframe tbody tr th:only-of-type {\n",
       "        vertical-align: middle;\n",
       "    }\n",
       "\n",
       "    .dataframe tbody tr th {\n",
       "        vertical-align: top;\n",
       "    }\n",
       "\n",
       "    .dataframe thead th {\n",
       "        text-align: right;\n",
       "    }\n",
       "</style>\n",
       "<table border=\"1\" class=\"dataframe\">\n",
       "  <thead>\n",
       "    <tr style=\"text-align: right;\">\n",
       "      <th></th>\n",
       "      <th>kode_provinsi</th>\n",
       "      <th>nama_provinsi</th>\n",
       "      <th>kode_kabupaten_kota</th>\n",
       "      <th>nama_kabupaten_kota</th>\n",
       "      <th>jenis_faskes</th>\n",
       "      <th>jumlah_faskes</th>\n",
       "      <th>satuan</th>\n",
       "    </tr>\n",
       "  </thead>\n",
       "  <tbody>\n",
       "    <tr>\n",
       "      <th>4</th>\n",
       "      <td>32</td>\n",
       "      <td>JAWA BARAT</td>\n",
       "      <td>3201</td>\n",
       "      <td>KABUPATEN BOGOR</td>\n",
       "      <td>POSYANDU</td>\n",
       "      <td>4927</td>\n",
       "      <td>UNIT</td>\n",
       "    </tr>\n",
       "  </tbody>\n",
       "</table>\n",
       "</div>"
      ],
      "text/plain": [
       "   kode_provinsi nama_provinsi  kode_kabupaten_kota nama_kabupaten_kota  \\\n",
       "4             32    JAWA BARAT                 3201     KABUPATEN BOGOR   \n",
       "\n",
       "  jenis_faskes  jumlah_faskes satuan  \n",
       "4     POSYANDU           4927   UNIT  "
      ]
     },
     "execution_count": 8,
     "metadata": {},
     "output_type": "execute_result"
    }
   ],
   "source": [
    "filtered_data = df[df['jumlah_faskes'] == 4927]\n",
    "\n",
    "filtered_data"
   ]
  },
  {
   "cell_type": "code",
   "execution_count": 9,
   "metadata": {},
   "outputs": [],
   "source": [
    "import seaborn as sns"
   ]
  },
  {
   "cell_type": "code",
   "execution_count": 10,
   "metadata": {},
   "outputs": [
    {
     "data": {
      "text/plain": [
       "<Axes: xlabel='jumlah_faskes', ylabel='Count'>"
      ]
     },
     "execution_count": 10,
     "metadata": {},
     "output_type": "execute_result"
    },
    {
     "data": {
      "image/png": "[encoded data removed]",
      "text/plain": [
       "<Figure size 640x480 with 1 Axes>"
      ]
     },
     "metadata": {},
     "output_type": "display_data"
    }
   ],
   "source": [
    "# Membuat histogram \n",
    "sns.histplot(data=df ,x= \"jumlah_faskes\", bins=100)"
   ]
  },
  {
   "cell_type": "code",
   "execution_count": 11,
   "metadata": {},
   "outputs": [
    {
     "data": {
      "text/plain": [
       "<Axes: xlabel='jumlah_faskes', ylabel='Count'>"
      ]
     },
     "execution_count": 11,
     "metadata": {},
     "output_type": "execute_result"
    },
    {
     "data": {
      "image/png": "[encoded data removed]",
      "text/plain": [
       "<Figure size 640x480 with 1 Axes>"
      ]
     },
     "metadata": {},
     "output_type": "display_data"
    }
   ],
   "source": [
    "#batas atas data \n",
    "batas_atas = df['jumlah_faskes'].quantile(q=0.75)*1.5\n",
    "\n",
    "#plot tampa outlier\n",
    "faskes_tanpa_outlier = df[df['jumlah_faskes'] < batas_atas]\n",
    "\n",
    "# plot tanpa extreme outlier\n",
    "sns.histplot(faskes_tanpa_outlier['jumlah_faskes'])"
   ]
  },
  {
   "cell_type": "code",
   "execution_count": 18,
   "metadata": {},
   "outputs": [
    {
     "data": {
      "text/html": [
       "<div>\n",
       "<style scoped>\n",
       "    .dataframe tbody tr th:only-of-type {\n",
       "        vertical-align: middle;\n",
       "    }\n",
       "\n",
       "    .dataframe tbody tr th {\n",
       "        vertical-align: top;\n",
       "    }\n",
       "\n",
       "    .dataframe thead th {\n",
       "        text-align: right;\n",
       "    }\n",
       "</style>\n",
       "<table border=\"1\" class=\"dataframe\">\n",
       "  <thead>\n",
       "    <tr style=\"text-align: right;\">\n",
       "      <th></th>\n",
       "      <th>kode_provinsi</th>\n",
       "      <th>nama_provinsi</th>\n",
       "      <th>kode_kabupaten_kota</th>\n",
       "      <th>nama_kabupaten_kota</th>\n",
       "      <th>jenis_faskes</th>\n",
       "      <th>jumlah_faskes</th>\n",
       "      <th>satuan</th>\n",
       "    </tr>\n",
       "  </thead>\n",
       "  <tbody>\n",
       "    <tr>\n",
       "      <th>0</th>\n",
       "      <td>32</td>\n",
       "      <td>JAWA BARAT</td>\n",
       "      <td>3201</td>\n",
       "      <td>KABUPATEN BOGOR</td>\n",
       "      <td>RUMAH SAKIT UMUM</td>\n",
       "      <td>9</td>\n",
       "      <td>UNIT</td>\n",
       "    </tr>\n",
       "    <tr>\n",
       "      <th>1</th>\n",
       "      <td>32</td>\n",
       "      <td>JAWA BARAT</td>\n",
       "      <td>3201</td>\n",
       "      <td>KABUPATEN BOGOR</td>\n",
       "      <td>RUMAH SAKIT KHUSUS</td>\n",
       "      <td>0</td>\n",
       "      <td>UNIT</td>\n",
       "    </tr>\n",
       "  </tbody>\n",
       "</table>\n",
       "</div>"
      ],
      "text/plain": [
       "   kode_provinsi nama_provinsi  kode_kabupaten_kota nama_kabupaten_kota  \\\n",
       "0             32    JAWA BARAT                 3201     KABUPATEN BOGOR   \n",
       "1             32    JAWA BARAT                 3201     KABUPATEN BOGOR   \n",
       "\n",
       "         jenis_faskes  jumlah_faskes satuan  \n",
       "0    RUMAH SAKIT UMUM              9   UNIT  \n",
       "1  RUMAH SAKIT KHUSUS              0   UNIT  "
      ]
     },
     "execution_count": 18,
     "metadata": {},
     "output_type": "execute_result"
    }
   ],
   "source": [
    "faskes_tanpa_outlier.head(2)"
   ]
  },
  {
   "cell_type": "code",
   "execution_count": 75,
   "metadata": {},
   "outputs": [
    {
     "name": "stdout",
     "output_type": "stream",
     "text": [
      "Jumlah data duplikat: 32\n"
     ]
    }
   ],
   "source": [
    "print(\"Jumlah data duplikat:\", faskes_tanpa_outlier.duplicated().sum())\n",
    "df_cleaned = faskes_tanpa_outlier.drop_duplicates(keep='first')"
   ]
  },
  {
   "cell_type": "code",
   "execution_count": 79,
   "metadata": {},
   "outputs": [],
   "source": [
    "df_cleaned.to_excel(\"data_jumlah_faskes_cleaned.xlsx\", index=False)\n",
    "\n"
   ]
  },
  {
   "cell_type": "code",
   "execution_count": 100,
   "metadata": {},
   "outputs": [],
   "source": [
    "jumlah_faskess = df_cleaned.groupby('nama_kabupaten_kota').agg({'jumlah_faskes': 'sum'})\n",
    "jumlah_faskess.to_excel(\"jumlah_faskes_kesehatan.xlsx\")"
   ]
  },
  {
   "cell_type": "code",
   "execution_count": 15,
   "metadata": {},
   "outputs": [
    {
     "data": {
      "text/html": [
       "<div>\n",
       "<style scoped>\n",
       "    .dataframe tbody tr th:only-of-type {\n",
       "        vertical-align: middle;\n",
       "    }\n",
       "\n",
       "    .dataframe tbody tr th {\n",
       "        vertical-align: top;\n",
       "    }\n",
       "\n",
       "    .dataframe thead th {\n",
       "        text-align: right;\n",
       "    }\n",
       "</style>\n",
       "<table border=\"1\" class=\"dataframe\">\n",
       "  <thead>\n",
       "    <tr style=\"text-align: right;\">\n",
       "      <th></th>\n",
       "      <th>kode_provinsi</th>\n",
       "      <th>nama_provinsi</th>\n",
       "      <th>kode_kabupaten_kota</th>\n",
       "      <th>nama_kabupaten_kota</th>\n",
       "      <th>jaminan_kesehatan</th>\n",
       "      <th>jumlah_penduduk</th>\n",
       "      <th>satuan</th>\n",
       "    </tr>\n",
       "  </thead>\n",
       "  <tbody>\n",
       "    <tr>\n",
       "      <th>0</th>\n",
       "      <td>32</td>\n",
       "      <td>JAWA BARAT</td>\n",
       "      <td>3201</td>\n",
       "      <td>KABUPATEN BOGOR</td>\n",
       "      <td>PENERIMA BANTUAN IURAN (PBI) APBN</td>\n",
       "      <td>1119615</td>\n",
       "      <td>JIWA</td>\n",
       "    </tr>\n",
       "    <tr>\n",
       "      <th>1</th>\n",
       "      <td>32</td>\n",
       "      <td>JAWA BARAT</td>\n",
       "      <td>3201</td>\n",
       "      <td>KABUPATEN BOGOR</td>\n",
       "      <td>PENERIMA BANTUAN IURAN (PBI) APBD</td>\n",
       "      <td>546641</td>\n",
       "      <td>JIWA</td>\n",
       "    </tr>\n",
       "    <tr>\n",
       "      <th>2</th>\n",
       "      <td>32</td>\n",
       "      <td>JAWA BARAT</td>\n",
       "      <td>3201</td>\n",
       "      <td>KABUPATEN BOGOR</td>\n",
       "      <td>PEKERJA PENERIMA UPAH (PPU)</td>\n",
       "      <td>792374</td>\n",
       "      <td>JIWA</td>\n",
       "    </tr>\n",
       "    <tr>\n",
       "      <th>3</th>\n",
       "      <td>32</td>\n",
       "      <td>JAWA BARAT</td>\n",
       "      <td>3201</td>\n",
       "      <td>KABUPATEN BOGOR</td>\n",
       "      <td>PEKERJA BUKAN PENERIMA UPAH (PBPU) / MANDIRI</td>\n",
       "      <td>999677</td>\n",
       "      <td>JIWA</td>\n",
       "    </tr>\n",
       "    <tr>\n",
       "      <th>4</th>\n",
       "      <td>32</td>\n",
       "      <td>JAWA BARAT</td>\n",
       "      <td>3201</td>\n",
       "      <td>KABUPATEN BOGOR</td>\n",
       "      <td>BUKAN PEKERJA (BP)</td>\n",
       "      <td>58725</td>\n",
       "      <td>JIWA</td>\n",
       "    </tr>\n",
       "  </tbody>\n",
       "</table>\n",
       "</div>"
      ],
      "text/plain": [
       "   kode_provinsi nama_provinsi  kode_kabupaten_kota nama_kabupaten_kota  \\\n",
       "0             32    JAWA BARAT                 3201     KABUPATEN BOGOR   \n",
       "1             32    JAWA BARAT                 3201     KABUPATEN BOGOR   \n",
       "2             32    JAWA BARAT                 3201     KABUPATEN BOGOR   \n",
       "3             32    JAWA BARAT                 3201     KABUPATEN BOGOR   \n",
       "4             32    JAWA BARAT                 3201     KABUPATEN BOGOR   \n",
       "\n",
       "                              jaminan_kesehatan  jumlah_penduduk satuan  \n",
       "0             PENERIMA BANTUAN IURAN (PBI) APBN          1119615   JIWA  \n",
       "1             PENERIMA BANTUAN IURAN (PBI) APBD           546641   JIWA  \n",
       "2                   PEKERJA PENERIMA UPAH (PPU)           792374   JIWA  \n",
       "3  PEKERJA BUKAN PENERIMA UPAH (PBPU) / MANDIRI           999677   JIWA  \n",
       "4                            BUKAN PEKERJA (BP)            58725   JIWA  "
      ]
     },
     "execution_count": 15,
     "metadata": {},
     "output_type": "execute_result"
    }
   ],
   "source": [
    "df2 = pd.read_excel('D:\\\\skill100\\\\data_wraggling\\\\Jaminan Kesehatan Jabar.xlsx')\n",
    "df2.head()"
   ]
  },
  {
   "cell_type": "code",
   "execution_count": 16,
   "metadata": {},
   "outputs": [
    {
     "name": "stdout",
     "output_type": "stream",
     "text": [
      "<class 'pandas.core.frame.DataFrame'>\n",
      "RangeIndex: 216 entries, 0 to 215\n",
      "Data columns (total 7 columns):\n",
      " #   Column               Non-Null Count  Dtype \n",
      "---  ------               --------------  ----- \n",
      " 0   kode_provinsi        216 non-null    int64 \n",
      " 1   nama_provinsi        216 non-null    object\n",
      " 2   kode_kabupaten_kota  216 non-null    int64 \n",
      " 3   nama_kabupaten_kota  216 non-null    object\n",
      " 4   jaminan_kesehatan    216 non-null    object\n",
      " 5   jumlah_penduduk      216 non-null    int64 \n",
      " 6   satuan               216 non-null    object\n",
      "dtypes: int64(3), object(4)\n",
      "memory usage: 11.9+ KB\n"
     ]
    }
   ],
   "source": [
    "df2.info()"
   ]
  },
  {
   "cell_type": "code",
   "execution_count": 17,
   "metadata": {},
   "outputs": [
    {
     "data": {
      "text/html": [
       "<div>\n",
       "<style scoped>\n",
       "    .dataframe tbody tr th:only-of-type {\n",
       "        vertical-align: middle;\n",
       "    }\n",
       "\n",
       "    .dataframe tbody tr th {\n",
       "        vertical-align: top;\n",
       "    }\n",
       "\n",
       "    .dataframe thead th {\n",
       "        text-align: right;\n",
       "    }\n",
       "</style>\n",
       "<table border=\"1\" class=\"dataframe\">\n",
       "  <thead>\n",
       "    <tr style=\"text-align: right;\">\n",
       "      <th></th>\n",
       "      <th>kode_provinsi</th>\n",
       "      <th>kode_kabupaten_kota</th>\n",
       "      <th>jumlah_penduduk</th>\n",
       "    </tr>\n",
       "  </thead>\n",
       "  <tbody>\n",
       "    <tr>\n",
       "      <th>count</th>\n",
       "      <td>216.0</td>\n",
       "      <td>216.000000</td>\n",
       "      <td>2.160000e+02</td>\n",
       "    </tr>\n",
       "    <tr>\n",
       "      <th>mean</th>\n",
       "      <td>32.0</td>\n",
       "      <td>3231.333333</td>\n",
       "      <td>1.640144e+05</td>\n",
       "    </tr>\n",
       "    <tr>\n",
       "      <th>std</th>\n",
       "      <td>0.0</td>\n",
       "      <td>31.274330</td>\n",
       "      <td>2.762955e+05</td>\n",
       "    </tr>\n",
       "    <tr>\n",
       "      <th>min</th>\n",
       "      <td>32.0</td>\n",
       "      <td>3201.000000</td>\n",
       "      <td>0.000000e+00</td>\n",
       "    </tr>\n",
       "    <tr>\n",
       "      <th>25%</th>\n",
       "      <td>32.0</td>\n",
       "      <td>3207.000000</td>\n",
       "      <td>0.000000e+00</td>\n",
       "    </tr>\n",
       "    <tr>\n",
       "      <th>50%</th>\n",
       "      <td>32.0</td>\n",
       "      <td>3214.000000</td>\n",
       "      <td>3.431100e+04</td>\n",
       "    </tr>\n",
       "    <tr>\n",
       "      <th>75%</th>\n",
       "      <td>32.0</td>\n",
       "      <td>3273.000000</td>\n",
       "      <td>1.864140e+05</td>\n",
       "    </tr>\n",
       "    <tr>\n",
       "      <th>max</th>\n",
       "      <td>32.0</td>\n",
       "      <td>3279.000000</td>\n",
       "      <td>1.316749e+06</td>\n",
       "    </tr>\n",
       "  </tbody>\n",
       "</table>\n",
       "</div>"
      ],
      "text/plain": [
       "       kode_provinsi  kode_kabupaten_kota  jumlah_penduduk\n",
       "count          216.0           216.000000     2.160000e+02\n",
       "mean            32.0          3231.333333     1.640144e+05\n",
       "std              0.0            31.274330     2.762955e+05\n",
       "min             32.0          3201.000000     0.000000e+00\n",
       "25%             32.0          3207.000000     0.000000e+00\n",
       "50%             32.0          3214.000000     3.431100e+04\n",
       "75%             32.0          3273.000000     1.864140e+05\n",
       "max             32.0          3279.000000     1.316749e+06"
      ]
     },
     "execution_count": 17,
     "metadata": {},
     "output_type": "execute_result"
    }
   ],
   "source": [
    "df2.describe()"
   ]
  },
  {
   "cell_type": "code",
   "execution_count": 80,
   "metadata": {},
   "outputs": [
    {
     "name": "stdout",
     "output_type": "stream",
     "text": [
      "Jumlah data duplikat: 0\n"
     ]
    }
   ],
   "source": [
    "print(\"Jumlah data duplikat:\", df2.duplicated().sum())"
   ]
  },
  {
   "cell_type": "code",
   "execution_count": 21,
   "metadata": {},
   "outputs": [
    {
     "data": {
      "text/plain": [
       "array(['KABUPATEN BOGOR', 'KABUPATEN SUKABUMI', 'KABUPATEN CIANJUR',\n",
       "       'KABUPATEN BANDUNG', 'KABUPATEN GARUT', 'KABUPATEN TASIKMALAYA',\n",
       "       'KABUPATEN CIAMIS', 'KABUPATEN KUNINGAN', 'KABUPATEN CIREBON',\n",
       "       'KABUPATEN MAJALENGKA', 'KABUPATEN SUMEDANG',\n",
       "       'KABUPATEN INDRAMAYU', 'KABUPATEN SUBANG', 'KABUPATEN PURWAKARTA',\n",
       "       'KABUPATEN KARAWANG', 'KABUPATEN BEKASI',\n",
       "       'KABUPATEN BANDUNG BARAT', 'KABUPATEN PANGANDARAN', 'KOTA BOGOR',\n",
       "       'KOTA SUKABUMI', 'KOTA BANDUNG', 'KOTA CIREBON', 'KOTA BEKASI',\n",
       "       'KOTA DEPOK', 'KOTA CIMAHI', 'KOTA TASIKMALAYA', 'KOTA BANJAR'],\n",
       "      dtype=object)"
      ]
     },
     "execution_count": 21,
     "metadata": {},
     "output_type": "execute_result"
    }
   ],
   "source": [
    "df[\"nama_kabupaten_kota\"].unique()"
   ]
  },
  {
   "cell_type": "code",
   "execution_count": 24,
   "metadata": {},
   "outputs": [
    {
     "data": {
      "text/plain": [
       "array(['PENERIMA BANTUAN IURAN (PBI) APBN',\n",
       "       'PENERIMA BANTUAN IURAN (PBI) APBD', 'PEKERJA PENERIMA UPAH (PPU)',\n",
       "       'PEKERJA BUKAN PENERIMA UPAH (PBPU) / MANDIRI',\n",
       "       'BUKAN PEKERJA (BP)', 'JAMKESDA', 'ASURANSI SWASTA',\n",
       "       'ASURANSI PERUSAHAAN'], dtype=object)"
      ]
     },
     "execution_count": 24,
     "metadata": {},
     "output_type": "execute_result"
    }
   ],
   "source": [
    "df2['jaminan_kesehatan'].unique()"
   ]
  },
  {
   "cell_type": "code",
   "execution_count": 25,
   "metadata": {},
   "outputs": [
    {
     "data": {
      "text/plain": [
       "array(['RUMAH SAKIT UMUM', 'RUMAH SAKIT KHUSUS', 'RUMAH SAKIT BERSALIN',\n",
       "       'PUSKESMAS', 'POSYANDU'], dtype=object)"
      ]
     },
     "execution_count": 25,
     "metadata": {},
     "output_type": "execute_result"
    }
   ],
   "source": [
    "df['jenis_faskes'].unique()"
   ]
  },
  {
   "cell_type": "code",
   "execution_count": 83,
   "metadata": {},
   "outputs": [],
   "source": [
    "jaminan = df2.groupby(['jaminan_kesehatan','nama_kabupaten_kota'])\n",
    "data_jaminan = jaminan.agg({'jumlah_penduduk':'sum'})\n",
    "data_jaminan.to_excel('jaminan_kesehatan.xlsx')"
   ]
  },
  {
   "cell_type": "code",
   "execution_count": 84,
   "metadata": {},
   "outputs": [],
   "source": [
    "df_merged = pd.merge(df_cleaned, df2, on='nama_kabupaten_kota', how='inner')\n"
   ]
  },
  {
   "cell_type": "code",
   "execution_count": 91,
   "metadata": {},
   "outputs": [],
   "source": [
    "df_merged.to_excel('jaminan_kesehatan_jumlahfaskes.xlsx')"
   ]
  },
  {
   "cell_type": "code",
   "execution_count": 90,
   "metadata": {},
   "outputs": [
    {
     "data": {
      "text/html": [
       "<div>\n",
       "<style scoped>\n",
       "    .dataframe tbody tr th:only-of-type {\n",
       "        vertical-align: middle;\n",
       "    }\n",
       "\n",
       "    .dataframe tbody tr th {\n",
       "        vertical-align: top;\n",
       "    }\n",
       "\n",
       "    .dataframe thead th {\n",
       "        text-align: right;\n",
       "    }\n",
       "</style>\n",
       "<table border=\"1\" class=\"dataframe\">\n",
       "  <thead>\n",
       "    <tr style=\"text-align: right;\">\n",
       "      <th></th>\n",
       "      <th>nama_kabupaten_kota</th>\n",
       "      <th>jaminan_kesehatan</th>\n",
       "      <th>jumlah_penduduk</th>\n",
       "    </tr>\n",
       "  </thead>\n",
       "  <tbody>\n",
       "    <tr>\n",
       "      <th>0</th>\n",
       "      <td>KABUPATEN BANDUNG</td>\n",
       "      <td>ASURANSI PERUSAHAAN</td>\n",
       "      <td>0</td>\n",
       "    </tr>\n",
       "    <tr>\n",
       "      <th>1</th>\n",
       "      <td>KABUPATEN BANDUNG</td>\n",
       "      <td>ASURANSI SWASTA</td>\n",
       "      <td>0</td>\n",
       "    </tr>\n",
       "    <tr>\n",
       "      <th>2</th>\n",
       "      <td>KABUPATEN BANDUNG</td>\n",
       "      <td>BUKAN PEKERJA (BP)</td>\n",
       "      <td>477743</td>\n",
       "    </tr>\n",
       "    <tr>\n",
       "      <th>3</th>\n",
       "      <td>KABUPATEN BANDUNG</td>\n",
       "      <td>JAMKESDA</td>\n",
       "      <td>1904</td>\n",
       "    </tr>\n",
       "    <tr>\n",
       "      <th>4</th>\n",
       "      <td>KABUPATEN BANDUNG</td>\n",
       "      <td>PEKERJA BUKAN PENERIMA UPAH (PBPU) / MANDIRI</td>\n",
       "      <td>2576035</td>\n",
       "    </tr>\n",
       "    <tr>\n",
       "      <th>...</th>\n",
       "      <td>...</td>\n",
       "      <td>...</td>\n",
       "      <td>...</td>\n",
       "    </tr>\n",
       "    <tr>\n",
       "      <th>211</th>\n",
       "      <td>KOTA TASIKMALAYA</td>\n",
       "      <td>JAMKESDA</td>\n",
       "      <td>0</td>\n",
       "    </tr>\n",
       "    <tr>\n",
       "      <th>212</th>\n",
       "      <td>KOTA TASIKMALAYA</td>\n",
       "      <td>PEKERJA BUKAN PENERIMA UPAH (PBPU) / MANDIRI</td>\n",
       "      <td>447320</td>\n",
       "    </tr>\n",
       "    <tr>\n",
       "      <th>213</th>\n",
       "      <td>KOTA TASIKMALAYA</td>\n",
       "      <td>PEKERJA PENERIMA UPAH (PPU)</td>\n",
       "      <td>986096</td>\n",
       "    </tr>\n",
       "    <tr>\n",
       "      <th>214</th>\n",
       "      <td>KOTA TASIKMALAYA</td>\n",
       "      <td>PENERIMA BANTUAN IURAN (PBI) APBD</td>\n",
       "      <td>451408</td>\n",
       "    </tr>\n",
       "    <tr>\n",
       "      <th>215</th>\n",
       "      <td>KOTA TASIKMALAYA</td>\n",
       "      <td>PENERIMA BANTUAN IURAN (PBI) APBN</td>\n",
       "      <td>2176440</td>\n",
       "    </tr>\n",
       "  </tbody>\n",
       "</table>\n",
       "<p>216 rows × 3 columns</p>\n",
       "</div>"
      ],
      "text/plain": [
       "    nama_kabupaten_kota                             jaminan_kesehatan  \\\n",
       "0     KABUPATEN BANDUNG                           ASURANSI PERUSAHAAN   \n",
       "1     KABUPATEN BANDUNG                               ASURANSI SWASTA   \n",
       "2     KABUPATEN BANDUNG                            BUKAN PEKERJA (BP)   \n",
       "3     KABUPATEN BANDUNG                                      JAMKESDA   \n",
       "4     KABUPATEN BANDUNG  PEKERJA BUKAN PENERIMA UPAH (PBPU) / MANDIRI   \n",
       "..                  ...                                           ...   \n",
       "211    KOTA TASIKMALAYA                                      JAMKESDA   \n",
       "212    KOTA TASIKMALAYA  PEKERJA BUKAN PENERIMA UPAH (PBPU) / MANDIRI   \n",
       "213    KOTA TASIKMALAYA                   PEKERJA PENERIMA UPAH (PPU)   \n",
       "214    KOTA TASIKMALAYA             PENERIMA BANTUAN IURAN (PBI) APBD   \n",
       "215    KOTA TASIKMALAYA             PENERIMA BANTUAN IURAN (PBI) APBN   \n",
       "\n",
       "     jumlah_penduduk  \n",
       "0                  0  \n",
       "1                  0  \n",
       "2             477743  \n",
       "3               1904  \n",
       "4            2576035  \n",
       "..               ...  \n",
       "211                0  \n",
       "212           447320  \n",
       "213           986096  \n",
       "214           451408  \n",
       "215          2176440  \n",
       "\n",
       "[216 rows x 3 columns]"
      ]
     },
     "execution_count": 90,
     "metadata": {},
     "output_type": "execute_result"
    }
   ],
   "source": [
    "df_grouped = df_merged.groupby(['nama_kabupaten_kota','jaminan_kesehatan']).agg({\n",
    "    'jumlah_penduduk': 'sum'\n",
    "}).reset_index()\n",
    "df_grouped"
   ]
  },
  {
   "cell_type": "code",
   "execution_count": null,
   "metadata": {},
   "outputs": [],
   "source": []
  }
 ],
 "metadata": {
  "kernelspec": {
   "display_name": "Python 3",
   "language": "python",
   "name": "python3"
  },
  "language_info": {
   "codemirror_mode": {
    "name": "ipython",
    "version": 3
   },
   "file_extension": ".py",
   "mimetype": "text/x-python",
   "name": "python",
   "nbconvert_exporter": "python",
   "pygments_lexer": "ipython3",
   "version": "3.12.6"
  }
 },
 "nbformat": 4,
 "nbformat_minor": 2
}
